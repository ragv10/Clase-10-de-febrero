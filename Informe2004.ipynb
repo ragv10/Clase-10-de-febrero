{
 "cells": [
  {
   "cell_type": "markdown",
   "metadata": {},
   "source": [
    "# Informe de aportes hidrológicos año 2004"
   ]
  },
  {
   "cell_type": "markdown",
   "metadata": {},
   "source": [
    "Este es un ejemplo de **clase** sobre la *manipulación* de archivos .csv para Python \n",
    "* item 1\n",
    "* item 2"
   ]
  },
  {
   "cell_type": "code",
   "execution_count": null,
   "metadata": {
    "collapsed": true
   },
   "outputs": [],
   "source": [
    "# %load demo.txt\n",
    "este es un archivo de texto\n",
    "para utilizar en la clase de hoy\n",
    "en el cual el profe difunde la palabra"
   ]
  },
  {
   "cell_type": "code",
   "execution_count": 9,
   "metadata": {
    "collapsed": false
   },
   "outputs": [
    {
     "name": "stdout",
     "output_type": "stream",
     "text": [
      "Writing demo1.txt\n"
     ]
    }
   ],
   "source": [
    "%%writefile demo1.txt\n",
    "\n",
    "línea 1\n",
    "línea 2\n",
    "línea 3"
   ]
  },
  {
   "cell_type": "code",
   "execution_count": 11,
   "metadata": {
    "collapsed": false
   },
   "outputs": [
    {
     "name": "stderr",
     "output_type": "stream",
     "text": [
      "\"head\" no se reconoce como un comando interno o externo,\n",
      "programa o archivo por lotes ejecutable.\n"
     ]
    }
   ],
   "source": [
    "!head AportesDiario2004.csv"
   ]
  },
  {
   "cell_type": "code",
   "execution_count": 12,
   "metadata": {
    "collapsed": true
   },
   "outputs": [],
   "source": [
    "import pandas as pd"
   ]
  },
  {
   "cell_type": "code",
   "execution_count": 22,
   "metadata": {
    "collapsed": false
   },
   "outputs": [],
   "source": [
    "x = pd.read_csv('AportesDiario2004.csv', sep=';', decimal=',', thousands='.', skiprows=2)"
   ]
  },
  {
   "cell_type": "code",
   "execution_count": 23,
   "metadata": {
    "collapsed": false
   },
   "outputs": [
    {
     "data": {
      "text/html": [
       "<div>\n",
       "<table border=\"1\" class=\"dataframe\">\n",
       "  <thead>\n",
       "    <tr style=\"text-align: right;\">\n",
       "      <th></th>\n",
       "      <th>Fecha</th>\n",
       "      <th>Region Hidrologica</th>\n",
       "      <th>Nombre Rio</th>\n",
       "      <th>Aportes Caudal m3/s</th>\n",
       "      <th>Aportes Energia kWh</th>\n",
       "      <th>Aportes %</th>\n",
       "    </tr>\n",
       "  </thead>\n",
       "  <tbody>\n",
       "    <tr>\n",
       "      <th>0</th>\n",
       "      <td>01/01/2004</td>\n",
       "      <td>ANTIOQUIA</td>\n",
       "      <td>A. SAN LORENZO</td>\n",
       "      <td>17.56</td>\n",
       "      <td>3910000.0</td>\n",
       "      <td>72,27%</td>\n",
       "    </tr>\n",
       "    <tr>\n",
       "      <th>1</th>\n",
       "      <td>01/01/2004</td>\n",
       "      <td>ANTIOQUIA</td>\n",
       "      <td>CONCEPCION</td>\n",
       "      <td>6.15</td>\n",
       "      <td>1385300.0</td>\n",
       "      <td>123,69%</td>\n",
       "    </tr>\n",
       "    <tr>\n",
       "      <th>2</th>\n",
       "      <td>01/01/2004</td>\n",
       "      <td>ANTIOQUIA</td>\n",
       "      <td>DESV. EEPPM (NEC,PAJ,DOL)</td>\n",
       "      <td>11.43</td>\n",
       "      <td>2574700.0</td>\n",
       "      <td>147,13%</td>\n",
       "    </tr>\n",
       "    <tr>\n",
       "      <th>3</th>\n",
       "      <td>01/01/2004</td>\n",
       "      <td>ANTIOQUIA</td>\n",
       "      <td>GRANDE</td>\n",
       "      <td>18.65</td>\n",
       "      <td>4563500.0</td>\n",
       "      <td>79,23%</td>\n",
       "    </tr>\n",
       "    <tr>\n",
       "      <th>4</th>\n",
       "      <td>01/01/2004</td>\n",
       "      <td>ANTIOQUIA</td>\n",
       "      <td>GUADALUPE</td>\n",
       "      <td>11.28</td>\n",
       "      <td>2540900.0</td>\n",
       "      <td>80,15%</td>\n",
       "    </tr>\n",
       "  </tbody>\n",
       "</table>\n",
       "</div>"
      ],
      "text/plain": [
       "        Fecha Region Hidrologica                 Nombre Rio  \\\n",
       "0  01/01/2004          ANTIOQUIA             A. SAN LORENZO   \n",
       "1  01/01/2004          ANTIOQUIA                 CONCEPCION   \n",
       "2  01/01/2004          ANTIOQUIA  DESV. EEPPM (NEC,PAJ,DOL)   \n",
       "3  01/01/2004          ANTIOQUIA                     GRANDE   \n",
       "4  01/01/2004          ANTIOQUIA                  GUADALUPE   \n",
       "\n",
       "   Aportes Caudal m3/s  Aportes Energia kWh Aportes %  \n",
       "0                17.56            3910000.0    72,27%  \n",
       "1                 6.15            1385300.0   123,69%  \n",
       "2                11.43            2574700.0   147,13%  \n",
       "3                18.65            4563500.0    79,23%  \n",
       "4                11.28            2540900.0    80,15%  "
      ]
     },
     "execution_count": 23,
     "metadata": {},
     "output_type": "execute_result"
    }
   ],
   "source": [
    "x.head()"
   ]
  },
  {
   "cell_type": "code",
   "execution_count": 27,
   "metadata": {
    "collapsed": false
   },
   "outputs": [],
   "source": [
    "seleccion = x['Region Hidrologica'] == 'ANTIOQUIA'"
   ]
  },
  {
   "cell_type": "code",
   "execution_count": 31,
   "metadata": {
    "collapsed": false
   },
   "outputs": [
    {
     "data": {
      "text/html": [
       "<div>\n",
       "<table border=\"1\" class=\"dataframe\">\n",
       "  <thead>\n",
       "    <tr style=\"text-align: right;\">\n",
       "      <th></th>\n",
       "      <th>Aportes Caudal m3/s</th>\n",
       "      <th>Aportes Energia kWh</th>\n",
       "    </tr>\n",
       "    <tr>\n",
       "      <th>Nombre Rio</th>\n",
       "      <th></th>\n",
       "      <th></th>\n",
       "    </tr>\n",
       "  </thead>\n",
       "  <tbody>\n",
       "    <tr>\n",
       "      <th>A. SAN LORENZO</th>\n",
       "      <td>36.466612</td>\n",
       "      <td>8.105400e+06</td>\n",
       "    </tr>\n",
       "    <tr>\n",
       "      <th>ALTOANCHICAYA</th>\n",
       "      <td>43.468716</td>\n",
       "      <td>4.620596e+06</td>\n",
       "    </tr>\n",
       "    <tr>\n",
       "      <th>BATA</th>\n",
       "      <td>95.478989</td>\n",
       "      <td>1.571243e+07</td>\n",
       "    </tr>\n",
       "    <tr>\n",
       "      <th>BOGOTA N.R.</th>\n",
       "      <td>28.051803</td>\n",
       "      <td>1.277674e+07</td>\n",
       "    </tr>\n",
       "    <tr>\n",
       "      <th>CALIMA</th>\n",
       "      <td>11.922077</td>\n",
       "      <td>5.560117e+05</td>\n",
       "    </tr>\n",
       "    <tr>\n",
       "      <th>CAUCA SALVAJINA</th>\n",
       "      <td>113.523306</td>\n",
       "      <td>2.519614e+06</td>\n",
       "    </tr>\n",
       "    <tr>\n",
       "      <th>CHUZA</th>\n",
       "      <td>9.742486</td>\n",
       "      <td>4.337967e+06</td>\n",
       "    </tr>\n",
       "    <tr>\n",
       "      <th>CONCEPCION</th>\n",
       "      <td>6.606667</td>\n",
       "      <td>1.488170e+06</td>\n",
       "    </tr>\n",
       "    <tr>\n",
       "      <th>DESV. EEPPM (NEC,PAJ,DOL)</th>\n",
       "      <td>8.312240</td>\n",
       "      <td>2.291866e+06</td>\n",
       "    </tr>\n",
       "    <tr>\n",
       "      <th>DIGUA</th>\n",
       "      <td>27.529536</td>\n",
       "      <td>4.299954e+05</td>\n",
       "    </tr>\n",
       "    <tr>\n",
       "      <th>FLORIDA II</th>\n",
       "      <td>10.712486</td>\n",
       "      <td>2.148367e+05</td>\n",
       "    </tr>\n",
       "    <tr>\n",
       "      <th>GRANDE</th>\n",
       "      <td>27.511967</td>\n",
       "      <td>6.729973e+06</td>\n",
       "    </tr>\n",
       "    <tr>\n",
       "      <th>GUADALUPE</th>\n",
       "      <td>20.167978</td>\n",
       "      <td>4.542911e+06</td>\n",
       "    </tr>\n",
       "    <tr>\n",
       "      <th>GUATAPE</th>\n",
       "      <td>34.103033</td>\n",
       "      <td>5.624479e+06</td>\n",
       "    </tr>\n",
       "    <tr>\n",
       "      <th>GUAVIO</th>\n",
       "      <td>85.884563</td>\n",
       "      <td>2.062469e+07</td>\n",
       "    </tr>\n",
       "    <tr>\n",
       "      <th>MAGDALENA BETANIA</th>\n",
       "      <td>374.490765</td>\n",
       "      <td>5.580630e+06</td>\n",
       "    </tr>\n",
       "    <tr>\n",
       "      <th>MIEL I</th>\n",
       "      <td>78.433251</td>\n",
       "      <td>3.430428e+06</td>\n",
       "    </tr>\n",
       "    <tr>\n",
       "      <th>NARE</th>\n",
       "      <td>49.711612</td>\n",
       "      <td>1.738808e+07</td>\n",
       "    </tr>\n",
       "    <tr>\n",
       "      <th>OTROS RIOS (ESTIMADOS)</th>\n",
       "      <td>NaN</td>\n",
       "      <td>3.700457e+06</td>\n",
       "    </tr>\n",
       "    <tr>\n",
       "      <th>PORCE II</th>\n",
       "      <td>99.292650</td>\n",
       "      <td>4.976887e+06</td>\n",
       "    </tr>\n",
       "    <tr>\n",
       "      <th>PRADO</th>\n",
       "      <td>45.597268</td>\n",
       "      <td>4.984191e+05</td>\n",
       "    </tr>\n",
       "    <tr>\n",
       "      <th>SAN CARLOS</th>\n",
       "      <td>24.910492</td>\n",
       "      <td>3.084509e+06</td>\n",
       "    </tr>\n",
       "    <tr>\n",
       "      <th>SINU URRA</th>\n",
       "      <td>284.444208</td>\n",
       "      <td>3.165074e+06</td>\n",
       "    </tr>\n",
       "    <tr>\n",
       "      <th>TENCHE</th>\n",
       "      <td>3.900874</td>\n",
       "      <td>8.786683e+05</td>\n",
       "    </tr>\n",
       "  </tbody>\n",
       "</table>\n",
       "</div>"
      ],
      "text/plain": [
       "                           Aportes Caudal m3/s  Aportes Energia kWh\n",
       "Nombre Rio                                                         \n",
       "A. SAN LORENZO                       36.466612         8.105400e+06\n",
       "ALTOANCHICAYA                        43.468716         4.620596e+06\n",
       "BATA                                 95.478989         1.571243e+07\n",
       "BOGOTA N.R.                          28.051803         1.277674e+07\n",
       "CALIMA                               11.922077         5.560117e+05\n",
       "CAUCA SALVAJINA                     113.523306         2.519614e+06\n",
       "CHUZA                                 9.742486         4.337967e+06\n",
       "CONCEPCION                            6.606667         1.488170e+06\n",
       "DESV. EEPPM (NEC,PAJ,DOL)             8.312240         2.291866e+06\n",
       "DIGUA                                27.529536         4.299954e+05\n",
       "FLORIDA II                           10.712486         2.148367e+05\n",
       "GRANDE                               27.511967         6.729973e+06\n",
       "GUADALUPE                            20.167978         4.542911e+06\n",
       "GUATAPE                              34.103033         5.624479e+06\n",
       "GUAVIO                               85.884563         2.062469e+07\n",
       "MAGDALENA BETANIA                   374.490765         5.580630e+06\n",
       "MIEL I                               78.433251         3.430428e+06\n",
       "NARE                                 49.711612         1.738808e+07\n",
       "OTROS RIOS (ESTIMADOS)                     NaN         3.700457e+06\n",
       "PORCE II                             99.292650         4.976887e+06\n",
       "PRADO                                45.597268         4.984191e+05\n",
       "SAN CARLOS                           24.910492         3.084509e+06\n",
       "SINU URRA                           284.444208         3.165074e+06\n",
       "TENCHE                                3.900874         8.786683e+05"
      ]
     },
     "execution_count": 31,
     "metadata": {},
     "output_type": "execute_result"
    }
   ],
   "source": [
    "x.groupby('Nombre Rio').mean()"
   ]
  },
  {
   "cell_type": "code",
   "execution_count": 32,
   "metadata": {
    "collapsed": true
   },
   "outputs": [],
   "source": [
    "n = set(x['Nombre Rio'])"
   ]
  },
  {
   "cell_type": "code",
   "execution_count": 33,
   "metadata": {
    "collapsed": true
   },
   "outputs": [],
   "source": [
    "import statistics "
   ]
  },
  {
   "cell_type": "code",
   "execution_count": 36,
   "metadata": {
    "collapsed": false
   },
   "outputs": [
    {
     "name": "stdout",
     "output_type": "stream",
     "text": [
      "CALIMA 556011.748634\n",
      "PRADO 498419.125683\n",
      "TENCHE 878668.306011\n",
      "MAGDALENA BETANIA 5580630.32787\n",
      "SAN CARLOS 3084508.74317\n",
      "DESV. EEPPM (NEC,PAJ,DOL) nan\n",
      "GUATAPE 5624479.23497\n",
      "DIGUA 429995.355191\n",
      "CAUCA SALVAJINA 2519614.48087\n",
      "SINU URRA 3165074.04372\n",
      "MIEL I 3430428.4153\n",
      "GUAVIO 20624689.3443\n",
      "GRANDE 6729973.22404\n",
      "ALTOANCHICAYA 4620595.90164\n",
      "OTROS RIOS (ESTIMADOS) 3700456.8306\n",
      "A. SAN LORENZO 8105399.72678\n",
      "PORCE II 4976887.15847\n",
      "CHUZA nan\n",
      "BATA 15712428.4153\n",
      "CONCEPCION 1488170.4918\n",
      "FLORIDA II nan\n",
      "NARE 17388083.6066\n",
      "BOGOTA N.R. nan\n",
      "GUADALUPE 4542910.92896\n"
     ]
    }
   ],
   "source": [
    "for y in n:\n",
    "    z = x[x['Nombre Rio'] == y]['Aportes Energia kWh']\n",
    "    if len(z) > 0:\n",
    "        print(y, statistics.mean(z.values[:]))"
   ]
  },
  {
   "cell_type": "code",
   "execution_count": null,
   "metadata": {
    "collapsed": true
   },
   "outputs": [],
   "source": []
  }
 ],
 "metadata": {
  "kernelspec": {
   "display_name": "Python [default]",
   "language": "python",
   "name": "python3"
  },
  "language_info": {
   "codemirror_mode": {
    "name": "ipython",
    "version": 3
   },
   "file_extension": ".py",
   "mimetype": "text/x-python",
   "name": "python",
   "nbconvert_exporter": "python",
   "pygments_lexer": "ipython3",
   "version": "3.5.2"
  }
 },
 "nbformat": 4,
 "nbformat_minor": 1
}
